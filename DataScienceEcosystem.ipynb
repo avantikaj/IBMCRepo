{
 "cells": [
  {
   "cell_type": "markdown",
   "id": "a6417d1a-a55b-4d1c-9ef1-2602385a12f6",
   "metadata": {},
   "source": [
    "# Data Science Tools and Ecosystem"
   ]
  },
  {
   "cell_type": "markdown",
   "id": "0f220612-21d5-42bb-9fae-ba8cc2578bbf",
   "metadata": {},
   "source": [
    "In this notebook, Data Science Tools and Ecosystem are summarized."
   ]
  },
  {
   "cell_type": "markdown",
   "id": "9a3681db-1477-4332-b992-c9c177f62f0b",
   "metadata": {},
   "source": [
    "### **Objectives:**\n",
    "- List popular languages for Data Science\n",
    "- List tools for Data Science\n",
    "- List commonly used libraries by Data Scientists\n",
    "- Evaluate arithmetic expressions in Python"
   ]
  },
  {
   "cell_type": "markdown",
   "id": "f2a60723-d556-400e-a4fd-bd523c105a11",
   "metadata": {},
   "source": [
    "### Some of the popular languages that Data Scientists use are:\n",
    "1. Python\n",
    "2. R\n",
    "3. SQL\n"
   ]
  },
  {
   "cell_type": "markdown",
   "id": "e00073a8-5c43-473c-918c-a142e1846cea",
   "metadata": {
    "jp-MarkdownHeadingCollapsed": true
   },
   "source": [
    "### Some of the commonly used libraries are used by Data Scientists include:\n",
    "1. Pandas\n",
    "2. Numpy\n",
    "3. Mathplotlib"
   ]
  },
  {
   "cell_type": "markdown",
   "id": "f8280a2f-4a52-413a-bbc4-b7dabcdcd696",
   "metadata": {},
   "source": [
    "|Data Science Tools         |\n",
    "|---------------------------|         \n",
    "|JupyterNotebook/ JupyterLab|\n",
    "|RStudio                    |\n",
    "|VSCode                     |"
   ]
  },
  {
   "cell_type": "markdown",
   "id": "1019e6ad-9ef4-471b-a369-26c096f9dba1",
   "metadata": {},
   "source": [
    "### Below are a few examples of evaluating arithmetic expressions in Python"
   ]
  },
  {
   "cell_type": "code",
   "execution_count": 14,
   "id": "6deddbe8-44f8-43e7-bc44-851ad41f74e4",
   "metadata": {},
   "outputs": [
    {
     "data": {
      "text/plain": [
       "17"
      ]
     },
     "execution_count": 14,
     "metadata": {},
     "output_type": "execute_result"
    }
   ],
   "source": [
    "# This is simple arithmetic expression to multiply then add integers\n",
    "(3*4)+5"
   ]
  },
  {
   "cell_type": "code",
   "execution_count": 16,
   "id": "5c1dc4aa-deec-4d4c-bd56-5e7d33c22097",
   "metadata": {},
   "outputs": [
    {
     "data": {
      "text/plain": [
       "3.3333333333333335"
      ]
     },
     "execution_count": 16,
     "metadata": {},
     "output_type": "execute_result"
    }
   ],
   "source": [
    "# This will convert 200 minutes to hours by dividing by 60\n",
    "(200/60)"
   ]
  },
  {
   "cell_type": "markdown",
   "id": "7314f12a-3c0a-40e5-b4b5-bfb563415303",
   "metadata": {},
   "source": [
    "## Author\n",
    "Avanti Joshi"
   ]
  }
 ],
 "metadata": {
  "kernelspec": {
   "display_name": "Python 3 (ipykernel)",
   "language": "python",
   "name": "python3"
  },
  "language_info": {
   "codemirror_mode": {
    "name": "ipython",
    "version": 3
   },
   "file_extension": ".py",
   "mimetype": "text/x-python",
   "name": "python",
   "nbconvert_exporter": "python",
   "pygments_lexer": "ipython3",
   "version": "3.12.4"
  }
 },
 "nbformat": 4,
 "nbformat_minor": 5
}
